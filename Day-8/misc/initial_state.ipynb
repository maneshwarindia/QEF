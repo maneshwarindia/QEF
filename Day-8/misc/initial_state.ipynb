{
 "cells": [
  {
   "cell_type": "markdown",
   "metadata": {},
   "source": [
    "# example notebook to calculate a reasonable initial state for a MD simulation\n",
    "\n",
    "# prerequisites\n",
    "you need to install \n",
    "```pip install numpy scipy k3d```"
   ]
  },
  {
   "cell_type": "markdown",
   "metadata": {},
   "source": [
    "# coordinates for a water molecule found on the web\n",
    "\n",
    "ATOM      1  OH  OSP3    1       4.013   0.831  -9.083  1.00  0.00              \n",
    "ATOM      2 1HH  OSP3    1       4.941   0.844  -8.837  1.00  0.00              \n",
    "ATOM      3 2HH  OSP3    1       3.750  -0.068  -9.293  1.00  0.00       "
   ]
  },
  {
   "cell_type": "code",
   "execution_count": 1,
   "metadata": {},
   "outputs": [],
   "source": [
    "coord=[[4.013,   0.831 , -9.083],[4.941,   0.844 , -8.837],[3.750,  -0.068,  -9.293]]"
   ]
  },
  {
   "cell_type": "code",
   "execution_count": 2,
   "metadata": {},
   "outputs": [],
   "source": [
    "import numpy as np"
   ]
  },
  {
   "cell_type": "code",
   "execution_count": 3,
   "metadata": {},
   "outputs": [],
   "source": [
    "coord=np.array(coord)"
   ]
  },
  {
   "cell_type": "code",
   "execution_count": 4,
   "metadata": {},
   "outputs": [],
   "source": [
    "coord=coord-coord.mean(axis=0)"
   ]
  },
  {
   "cell_type": "code",
   "execution_count": 5,
   "metadata": {},
   "outputs": [
    {
     "data": {
      "text/plain": [
       "array([[-0.22166667,  0.29533333, -0.012     ],\n",
       "       [ 0.70633333,  0.30833333,  0.234     ],\n",
       "       [-0.48466667, -0.60366667, -0.222     ]])"
      ]
     },
     "execution_count": 5,
     "metadata": {},
     "output_type": "execute_result"
    }
   ],
   "source": [
    "coord"
   ]
  },
  {
   "cell_type": "markdown",
   "metadata": {},
   "source": [
    "I check that is actually water"
   ]
  },
  {
   "cell_type": "code",
   "execution_count": 6,
   "metadata": {},
   "outputs": [
    {
     "data": {
      "text/plain": [
       "0.9601400939446285"
      ]
     },
     "execution_count": 6,
     "metadata": {},
     "output_type": "execute_result"
    }
   ],
   "source": [
    "np.sum((coord[0]-coord[1])**2)**0.5"
   ]
  },
  {
   "cell_type": "code",
   "execution_count": 7,
   "metadata": {},
   "outputs": [
    {
     "data": {
      "text/plain": [
       "1.5678523527424384"
      ]
     },
     "execution_count": 7,
     "metadata": {},
     "output_type": "execute_result"
    }
   ],
   "source": [
    "np.sum((coord[2]-coord[1])**2)**0.5"
   ]
  },
  {
   "cell_type": "code",
   "execution_count": 8,
   "metadata": {},
   "outputs": [
    {
     "data": {
      "text/plain": [
       "0.9599322892787799"
      ]
     },
     "execution_count": 8,
     "metadata": {},
     "output_type": "execute_result"
    }
   ],
   "source": [
    "np.sum((coord[0]-coord[2])**2)**0.5"
   ]
  },
  {
   "cell_type": "code",
   "execution_count": 9,
   "metadata": {},
   "outputs": [],
   "source": [
    "import k3d"
   ]
  },
  {
   "cell_type": "code",
   "execution_count": 10,
   "metadata": {},
   "outputs": [
    {
     "data": {
      "application/vnd.jupyter.widget-view+json": {
       "model_id": "1d400a3526e94dd395a3ffc018a0c8c7",
       "version_major": 2,
       "version_minor": 0
      },
      "text/plain": [
       "Output()"
      ]
     },
     "metadata": {},
     "output_type": "display_data"
    }
   ],
   "source": [
    "pl=k3d.plot()\n",
    "pl += k3d.points(np.array(coord,dtype='float32'))\n",
    "pl.display()"
   ]
  },
  {
   "cell_type": "code",
   "execution_count": 11,
   "metadata": {},
   "outputs": [],
   "source": [
    "from scipy.spatial.transform import Rotation as R\n"
   ]
  },
  {
   "cell_type": "markdown",
   "metadata": {},
   "source": [
    "Rember that with the question mark operator you can always get some documentation for any function. With two question mark you get the source code if available"
   ]
  },
  {
   "cell_type": "code",
   "execution_count": 12,
   "metadata": {},
   "outputs": [],
   "source": [
    "R.create_group?"
   ]
  },
  {
   "cell_type": "code",
   "execution_count": 13,
   "metadata": {},
   "outputs": [],
   "source": [
    "R1 = R.create_group('C4',axis='Z')\n",
    "R2 = R.create_group('C2',axis='X')"
   ]
  },
  {
   "cell_type": "markdown",
   "metadata": {},
   "source": [
    "einsum is my favourite numpy functions. It performs sums over repeated indexes, the position of the indexes is the same of the python indexes position. Like einstein notation on a piece of paper!\n",
    "Here I apply the random matrix rotation of the molecule to the coordinate index. I try few random matrixes till the plot few cells below is pretty. R.random() is a random rotation matrix"
   ]
  },
  {
   "cell_type": "code",
   "execution_count": 14,
   "metadata": {},
   "outputs": [
    {
     "name": "stdout",
     "output_type": "stream",
     "text": [
      "[[ 0.04935694  0.23905666 -0.27734039]\n",
      " [-0.70076153  0.23241062  0.32194844]\n",
      " [ 0.65140459 -0.47146728 -0.04460805]]\n"
     ]
    }
   ],
   "source": [
    "l=2.0\n",
    "coordr = np.einsum('ij,jm->im',coord,R.random().as_matrix())\n",
    "print(coordr)\n",
    "coords = np.einsum('ix,jxy->jiy',coordr+np.array([l,l,l]),R1.as_matrix())\n",
    "coords2 = np.einsum('ix,jxy->jiy',coordr+np.array([l,-l,-l]),R1.as_matrix())"
   ]
  },
  {
   "cell_type": "code",
   "execution_count": 15,
   "metadata": {},
   "outputs": [
    {
     "name": "stdout",
     "output_type": "stream",
     "text": [
      "[[[ 2.04935694  2.23905666  1.72265961]\n",
      "  [ 1.29923847  2.23241062  2.32194844]\n",
      "  [ 2.65140459  1.52853272  1.95539195]]\n",
      "\n",
      " [[ 2.23905666 -2.04935694  1.72265961]\n",
      "  [ 2.23241062 -1.29923847  2.32194844]\n",
      "  [ 1.52853272 -2.65140459  1.95539195]]\n",
      "\n",
      " [[-2.04935694 -2.23905666  1.72265961]\n",
      "  [-1.29923847 -2.23241062  2.32194844]\n",
      "  [-2.65140459 -1.52853272  1.95539195]]\n",
      "\n",
      " [[-2.23905666  2.04935694  1.72265961]\n",
      "  [-2.23241062  1.29923847  2.32194844]\n",
      "  [-1.52853272  2.65140459  1.95539195]]]\n",
      "\n",
      "[[[ 2.04935694 -1.76094334 -2.27734039]\n",
      "  [ 1.29923847 -1.76758938 -1.67805156]\n",
      "  [ 2.65140459 -2.47146728 -2.04460805]]\n",
      "\n",
      " [[-1.76094334 -2.04935694 -2.27734039]\n",
      "  [-1.76758938 -1.29923847 -1.67805156]\n",
      "  [-2.47146728 -2.65140459 -2.04460805]]\n",
      "\n",
      " [[-2.04935694  1.76094334 -2.27734039]\n",
      "  [-1.29923847  1.76758938 -1.67805156]\n",
      "  [-2.65140459  2.47146728 -2.04460805]]\n",
      "\n",
      " [[ 1.76094334  2.04935694 -2.27734039]\n",
      "  [ 1.76758938  1.29923847 -1.67805156]\n",
      "  [ 2.47146728  2.65140459 -2.04460805]]]\n"
     ]
    }
   ],
   "source": [
    "print(coords)\n",
    "print(\"\")\n",
    "print(coords2)"
   ]
  },
  {
   "cell_type": "code",
   "execution_count": 16,
   "metadata": {},
   "outputs": [
    {
     "data": {
      "application/vnd.jupyter.widget-view+json": {
       "model_id": "dabce5f0e9ad41bbaa4a748631d6a7b7",
       "version_major": 2,
       "version_minor": 0
      },
      "text/plain": [
       "Output()"
      ]
     },
     "metadata": {},
     "output_type": "display_data"
    }
   ],
   "source": [
    "pl=k3d.plot()\n",
    "pl += k3d.points(np.array(coords,dtype='float32'))\n",
    "pl += k3d.points(np.array(coords2,dtype='float32'))\n",
    "pl.display()"
   ]
  },
  {
   "cell_type": "markdown",
   "metadata": {},
   "source": [
    "I like the position of the atoms very much, so I prepare the input for QE. I convert to Bohr because I like it"
   ]
  },
  {
   "cell_type": "code",
   "execution_count": 17,
   "metadata": {},
   "outputs": [],
   "source": [
    "coordf=np.concatenate([coords,coords2])"
   ]
  },
  {
   "cell_type": "markdown",
   "metadata": {},
   "source": [
    "first index is of the molecule, second of the atom in the molecule. The third is the coordinate index"
   ]
  },
  {
   "cell_type": "code",
   "execution_count": 18,
   "metadata": {},
   "outputs": [
    {
     "data": {
      "text/plain": [
       "(8, 3, 3)"
      ]
     },
     "execution_count": 18,
     "metadata": {},
     "output_type": "execute_result"
    }
   ],
   "source": [
    "coordf.shape"
   ]
  },
  {
   "cell_type": "code",
   "execution_count": 19,
   "metadata": {},
   "outputs": [
    {
     "name": "stdout",
     "output_type": "stream",
     "text": [
      "O 3.8740206819121705 4.23262129178307 3.256445383871692\n",
      "H 2.456027346400072 4.220057885133582 4.389316522182073\n",
      "H 5.012106981139552 2.8894758325351435 3.696393103398031\n",
      "O 4.232621291783071 -3.87402068191217 3.256445383871692\n",
      "H 4.220057885133583 -2.4560273464000715 4.389316522182073\n",
      "H 2.889475832535145 -5.012106981139551 3.696393103398031\n",
      "O -3.87402068191217 -4.232621291783071 3.256445383871692\n",
      "H -2.4560273464000715 -4.220057885133582 4.389316522182073\n",
      "H -5.012106981139552 -2.889475832535144 3.696393103398031\n",
      "O -4.232621291783071 3.87402068191217 3.256445383871692\n",
      "H -4.220057885133583 2.4560273464000715 4.389316522182073\n",
      "H -2.889475832535145 5.012106981139551 3.696393103398031\n",
      "O 3.8740206819121705 -3.3288153811847936 -4.304991289096172\n",
      "H 2.456027346400072 -3.3413787878342815 -3.1721201507857915\n",
      "H 5.012106981139552 -4.67196084043272 -3.865043569569832\n",
      "O -3.3288153811847927 -3.8740206819121714 -4.304991289096172\n",
      "H -3.341378787834281 -2.456027346400073 -3.1721201507857915\n",
      "H -4.671960840432719 -5.012106981139553 -3.865043569569832\n",
      "O -3.8740206819121705 3.328815381184793 -4.304991289096172\n",
      "H -2.4560273464000724 3.341378787834281 -3.1721201507857915\n",
      "H -5.012106981139553 4.671960840432719 -3.865043569569832\n",
      "O 3.3288153811847927 3.8740206819121714 -4.304991289096172\n",
      "H 3.341378787834281 2.456027346400073 -3.1721201507857915\n",
      "H 4.671960840432719 5.012106981139553 -3.865043569569832\n"
     ]
    }
   ],
   "source": [
    "types=['O', 'H', 'H']\n",
    "for imol in range(coordf.shape[0]):\n",
    "    for itype in range(coordf.shape[1]):\n",
    "        x,y,z=coordf[imol][itype]/0.529\n",
    "        print(f'{types[itype]} {x} {y} {z}')"
   ]
  },
  {
   "cell_type": "markdown",
   "metadata": {},
   "source": [
    "copy and paste the output of the cell above in your input file! Then after few cycles of relaxation the input will be ready for running a molecular dynamics simulation!"
   ]
  },
  {
   "cell_type": "code",
   "execution_count": null,
   "metadata": {},
   "outputs": [],
   "source": []
  }
 ],
 "metadata": {
  "kernelspec": {
   "display_name": "Python 3",
   "language": "python",
   "name": "python3"
  },
  "language_info": {
   "codemirror_mode": {
    "name": "ipython",
    "version": 3
   },
   "file_extension": ".py",
   "mimetype": "text/x-python",
   "name": "python",
   "nbconvert_exporter": "python",
   "pygments_lexer": "ipython3",
   "version": "3.8.5"
  }
 },
 "nbformat": 4,
 "nbformat_minor": 4
}
