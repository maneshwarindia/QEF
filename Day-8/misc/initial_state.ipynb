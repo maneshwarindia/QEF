{
 "cells": [
  {
   "cell_type": "markdown",
   "metadata": {},
   "source": [
    "ATOM      1  OH  OSP3    1       4.013   0.831  -9.083  1.00  0.00              \n",
    "ATOM      2 1HH  OSP3    1       4.941   0.844  -8.837  1.00  0.00              \n",
    "ATOM      3 2HH  OSP3    1       3.750  -0.068  -9.293  1.00  0.00       "
   ]
  },
  {
   "cell_type": "code",
   "execution_count": 1,
   "metadata": {},
   "outputs": [],
   "source": [
    "coord=[[4.013,   0.831 , -9.083],[4.941,   0.844 , -8.837],[3.750,  -0.068,  -9.293]]"
   ]
  },
  {
   "cell_type": "code",
   "execution_count": 2,
   "metadata": {},
   "outputs": [],
   "source": [
    "import numpy as np"
   ]
  },
  {
   "cell_type": "code",
   "execution_count": 3,
   "metadata": {},
   "outputs": [],
   "source": [
    "coord=np.array(coord)"
   ]
  },
  {
   "cell_type": "code",
   "execution_count": 4,
   "metadata": {},
   "outputs": [
    {
     "data": {
      "text/plain": [
       "array([[ 4.013,  0.831, -9.083],\n",
       "       [ 4.941,  0.844, -8.837],\n",
       "       [ 3.75 , -0.068, -9.293]])"
      ]
     },
     "execution_count": 4,
     "metadata": {},
     "output_type": "execute_result"
    }
   ],
   "source": [
    "coord"
   ]
  },
  {
   "cell_type": "code",
   "execution_count": 5,
   "metadata": {},
   "outputs": [],
   "source": [
    "coord=coord-coord.mean(axis=0)"
   ]
  },
  {
   "cell_type": "code",
   "execution_count": 6,
   "metadata": {},
   "outputs": [
    {
     "data": {
      "text/plain": [
       "array([[-0.22166667,  0.29533333, -0.012     ],\n",
       "       [ 0.70633333,  0.30833333,  0.234     ],\n",
       "       [-0.48466667, -0.60366667, -0.222     ]])"
      ]
     },
     "execution_count": 6,
     "metadata": {},
     "output_type": "execute_result"
    }
   ],
   "source": [
    "coord"
   ]
  },
  {
   "cell_type": "code",
   "execution_count": 93,
   "metadata": {},
   "outputs": [
    {
     "data": {
      "text/plain": [
       "0.9601400939446285"
      ]
     },
     "execution_count": 93,
     "metadata": {},
     "output_type": "execute_result"
    }
   ],
   "source": [
    "np.sum((coord[0]-coord[1])**2)**0.5"
   ]
  },
  {
   "cell_type": "code",
   "execution_count": 94,
   "metadata": {},
   "outputs": [
    {
     "data": {
      "text/plain": [
       "1.5678523527424384"
      ]
     },
     "execution_count": 94,
     "metadata": {},
     "output_type": "execute_result"
    }
   ],
   "source": [
    "np.sum((coord[2]-coord[1])**2)**0.5"
   ]
  },
  {
   "cell_type": "code",
   "execution_count": 95,
   "metadata": {},
   "outputs": [
    {
     "data": {
      "text/plain": [
       "0.9599322892787799"
      ]
     },
     "execution_count": 95,
     "metadata": {},
     "output_type": "execute_result"
    }
   ],
   "source": [
    "np.sum((coord[0]-coord[2])**2)**0.5"
   ]
  },
  {
   "cell_type": "code",
   "execution_count": 7,
   "metadata": {},
   "outputs": [],
   "source": [
    "import k3d"
   ]
  },
  {
   "cell_type": "code",
   "execution_count": 8,
   "metadata": {},
   "outputs": [
    {
     "data": {
      "application/vnd.jupyter.widget-view+json": {
       "model_id": "7350d93092044e34b7b78f9f0d1444d9",
       "version_major": 2,
       "version_minor": 0
      },
      "text/plain": [
       "Output()"
      ]
     },
     "metadata": {},
     "output_type": "display_data"
    }
   ],
   "source": [
    "pl=k3d.plot()\n",
    "pl += k3d.points(np.array(coord,dtype='float32'))\n",
    "pl.display()"
   ]
  },
  {
   "cell_type": "code",
   "execution_count": 10,
   "metadata": {},
   "outputs": [],
   "source": [
    "from scipy.spatial.transform import Rotation as R\n"
   ]
  },
  {
   "cell_type": "code",
   "execution_count": 44,
   "metadata": {},
   "outputs": [],
   "source": [
    "R.create_group?"
   ]
  },
  {
   "cell_type": "code",
   "execution_count": 111,
   "metadata": {},
   "outputs": [],
   "source": [
    "R1 = R.create_group('C4',axis='Z')\n",
    "R2 = R.create_group('C2',axis='X')"
   ]
  },
  {
   "cell_type": "code",
   "execution_count": 112,
   "metadata": {},
   "outputs": [
    {
     "data": {
      "text/plain": [
       "array([[-0.2049241 , -0.21780283,  0.95423689],\n",
       "       [ 0.78819475, -0.61474452,  0.02895193],\n",
       "       [ 0.58030608,  0.75805746,  0.29764701]])"
      ]
     },
     "execution_count": 112,
     "metadata": {},
     "output_type": "execute_result"
    }
   ],
   "source": [
    "R.random().as_matrix()"
   ]
  },
  {
   "cell_type": "code",
   "execution_count": 125,
   "metadata": {},
   "outputs": [
    {
     "name": "stdout",
     "output_type": "stream",
     "text": [
      "[[ 0.13514469 -0.28177262 -0.19708372]\n",
      " [-0.47076193  0.3856909  -0.5275964 ]\n",
      " [ 0.33561724 -0.10391828  0.72468012]]\n"
     ]
    }
   ],
   "source": [
    "l=2.0\n",
    "coordr = np.einsum('ij,jm->im',coord,R.random().as_matrix())\n",
    "print(coordr)\n",
    "coords = np.einsum('ix,jxy->jiy',coordr+np.array([l,l,l]),R1.as_matrix())\n",
    "coords2 = np.einsum('ix,jxy->jiy',coordr+np.array([l,-l,-l]),R1.as_matrix())"
   ]
  },
  {
   "cell_type": "code",
   "execution_count": 126,
   "metadata": {},
   "outputs": [
    {
     "data": {
      "text/plain": [
       "array([[[ 2.13514469,  1.71822738,  1.80291628],\n",
       "        [ 1.52923807,  2.3856909 ,  1.4724036 ],\n",
       "        [ 2.33561724,  1.89608172,  2.72468012]],\n",
       "\n",
       "       [[ 1.71822738, -2.13514469,  1.80291628],\n",
       "        [ 2.3856909 , -1.52923807,  1.4724036 ],\n",
       "        [ 1.89608172, -2.33561724,  2.72468012]],\n",
       "\n",
       "       [[-2.13514469, -1.71822738,  1.80291628],\n",
       "        [-1.52923807, -2.3856909 ,  1.4724036 ],\n",
       "        [-2.33561724, -1.89608172,  2.72468012]],\n",
       "\n",
       "       [[-1.71822738,  2.13514469,  1.80291628],\n",
       "        [-2.3856909 ,  1.52923807,  1.4724036 ],\n",
       "        [-1.89608172,  2.33561724,  2.72468012]]])"
      ]
     },
     "execution_count": 126,
     "metadata": {},
     "output_type": "execute_result"
    }
   ],
   "source": [
    "coords"
   ]
  },
  {
   "cell_type": "code",
   "execution_count": 127,
   "metadata": {},
   "outputs": [
    {
     "data": {
      "application/vnd.jupyter.widget-view+json": {
       "model_id": "722fc43ad8bd46838e96de2d866e5d5c",
       "version_major": 2,
       "version_minor": 0
      },
      "text/plain": [
       "Output()"
      ]
     },
     "metadata": {},
     "output_type": "display_data"
    }
   ],
   "source": [
    "pl=k3d.plot()\n",
    "pl += k3d.points(np.array(coords,dtype='float32'))\n",
    "pl += k3d.points(np.array(coords2,dtype='float32'))\n",
    "pl.display()"
   ]
  },
  {
   "cell_type": "code",
   "execution_count": 128,
   "metadata": {},
   "outputs": [],
   "source": [
    "coordf=np.concatenate([coords,coords2])"
   ]
  },
  {
   "cell_type": "code",
   "execution_count": 129,
   "metadata": {},
   "outputs": [
    {
     "data": {
      "text/plain": [
       "(8, 3, 3)"
      ]
     },
     "execution_count": 129,
     "metadata": {},
     "output_type": "execute_result"
    }
   ],
   "source": [
    "coordf.shape"
   ]
  },
  {
   "cell_type": "code",
   "execution_count": 130,
   "metadata": {},
   "outputs": [
    {
     "name": "stdout",
     "output_type": "stream",
     "text": [
      "O 4.036190336140067 3.2480668862142097 3.4081593110550488\n",
      "H 2.890809201509836 4.509812656771914 2.783371649786892\n",
      "H 4.415155471801892 3.5842754664656713 5.150624048609854\n",
      "O 3.2480668862142106 -4.036190336140066 3.4081593110550488\n",
      "H 4.509812656771915 -2.890809201509835 2.783371649786892\n",
      "H 3.584275466465672 -4.415155471801891 5.150624048609854\n",
      "O -4.036190336140067 -3.24806688621421 3.4081593110550488\n",
      "H -2.8908092015098354 -4.509812656771914 2.783371649786892\n",
      "H -4.415155471801891 -3.5842754664656717 5.150624048609854\n",
      "O -3.2480668862142106 4.036190336140066 3.4081593110550488\n",
      "H -4.509812656771915 2.890809201509835 2.783371649786892\n",
      "H -3.584275466465672 4.415155471801891 5.150624048609854\n",
      "O 4.036190336140067 -4.313369786753654 -4.1532773619128145\n",
      "H 2.890809201509836 -3.05162401619595 -4.778065023180971\n",
      "H 4.415155471801892 -3.9771612065021924 -2.4108126243580097\n",
      "O -4.313369786753653 -4.036190336140068 -4.1532773619128145\n",
      "H -3.051624016195949 -2.890809201509837 -4.778065023180971\n",
      "H -3.9771612065021915 -4.415155471801892 -2.4108126243580097\n",
      "O -4.036190336140068 4.313369786753653 -4.1532773619128145\n",
      "H -2.8908092015098363 3.0516240161959494 -4.778065023180971\n",
      "H -4.415155471801892 3.9771612065021915 -2.4108126243580097\n",
      "O 4.313369786753653 4.036190336140068 -4.1532773619128145\n",
      "H 3.051624016195949 2.890809201509837 -4.778065023180971\n",
      "H 3.9771612065021915 4.415155471801892 -2.4108126243580097\n"
     ]
    }
   ],
   "source": [
    "types=['O', 'H', 'H']\n",
    "for imol in range(coordf.shape[0]):\n",
    "    for itype in range(coordf.shape[1]):\n",
    "        x,y,z=coordf[imol][itype]/0.529\n",
    "        print(f'{types[itype]} {x} {y} {z}')"
   ]
  },
  {
   "cell_type": "code",
   "execution_count": null,
   "metadata": {},
   "outputs": [],
   "source": []
  }
 ],
 "metadata": {
  "kernelspec": {
   "display_name": "Python 3",
   "language": "python",
   "name": "python3"
  },
  "language_info": {
   "codemirror_mode": {
    "name": "ipython",
    "version": 3
   },
   "file_extension": ".py",
   "mimetype": "text/x-python",
   "name": "python",
   "nbconvert_exporter": "python",
   "pygments_lexer": "ipython3",
   "version": "3.8.5"
  }
 },
 "nbformat": 4,
 "nbformat_minor": 4
}
